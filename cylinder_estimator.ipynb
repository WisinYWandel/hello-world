{
  "nbformat": 4,
  "nbformat_minor": 0,
  "metadata": {
    "colab": {
      "name": "cylinder_estimator.ipynb",
      "provenance": [],
      "authorship_tag": "ABX9TyNhB3QCyC7Vd2HEE5AC9adE",
      "include_colab_link": true
    },
    "kernelspec": {
      "name": "python3",
      "display_name": "Python 3"
    }
  },
  "cells": [
    {
      "cell_type": "markdown",
      "metadata": {
        "id": "view-in-github",
        "colab_type": "text"
      },
      "source": [
        "<a href=\"https://colab.research.google.com/github/WisinYWandel/hello-world/blob/master/cylinder_estimator.ipynb\" target=\"_parent\"><img src=\"https://colab.research.google.com/assets/colab-badge.svg\" alt=\"Open In Colab\"/></a>"
      ]
    },
    {
      "cell_type": "code",
      "metadata": {
        "id": "xKqgMUrvmt-K",
        "colab_type": "code",
        "outputId": "f6571b17-a18f-41d8-cf18-e83525aa019a",
        "colab": {
          "base_uri": "https://localhost:8080/",
          "height": 34
        }
      },
      "source": [
        "%tensorflow_version 1.x"
      ],
      "execution_count": 1,
      "outputs": [
        {
          "output_type": "stream",
          "text": [
            "TensorFlow 1.x selected.\n"
          ],
          "name": "stdout"
        }
      ]
    },
    {
      "cell_type": "code",
      "metadata": {
        "id": "RXMkOgtjcXA0",
        "colab_type": "code",
        "outputId": "c560dafa-7ba8-4960-adf1-ccb0dc5563b1",
        "colab": {
          "base_uri": "https://localhost:8080/",
          "height": 34
        }
      },
      "source": [
        "\n",
        "import tensorflow as tf\n",
        "import pandas as pd\n",
        "import numpy as np\n",
        "import shutil\n",
        "print(tf.__version__)"
      ],
      "execution_count": 2,
      "outputs": [
        {
          "output_type": "stream",
          "text": [
            "1.15.2\n"
          ],
          "name": "stdout"
        }
      ]
    },
    {
      "cell_type": "code",
      "metadata": {
        "id": "o82Q0eo6cYNL",
        "colab_type": "code",
        "colab": {}
      },
      "source": [
        "\n",
        "# In CSV, label is the first column, after the features, followed by the key\n",
        "CSV_COLUMNS = ['Volume','Height','Radius', 'key']\n",
        "FEATURES = CSV_COLUMNS[1:len(CSV_COLUMNS) - 1]\n",
        "LABEL = CSV_COLUMNS[0]\n",
        "\n",
        "df_train = pd.read_csv('./Cylinder_train.csv', header = None, names = CSV_COLUMNS)\n",
        "df_test = pd.read_csv('./Cylinder_test.csv', header = None, names = CSV_COLUMNS)\n",
        "df_valid = pd.read_csv('./Cylinder_test.csv', header = None, names = CSV_COLUMNS)"
      ],
      "execution_count": 0,
      "outputs": []
    },
    {
      "cell_type": "code",
      "metadata": {
        "id": "4DkQlp41oMls",
        "colab_type": "code",
        "outputId": "f6c099e0-c8ef-4ca4-8590-77a731ae299b",
        "colab": {
          "base_uri": "https://localhost:8080/",
          "height": 204
        }
      },
      "source": [
        "df_test.head()"
      ],
      "execution_count": 0,
      "outputs": [
        {
          "output_type": "execute_result",
          "data": {
            "text/html": [
              "<div>\n",
              "<style scoped>\n",
              "    .dataframe tbody tr th:only-of-type {\n",
              "        vertical-align: middle;\n",
              "    }\n",
              "\n",
              "    .dataframe tbody tr th {\n",
              "        vertical-align: top;\n",
              "    }\n",
              "\n",
              "    .dataframe thead th {\n",
              "        text-align: right;\n",
              "    }\n",
              "</style>\n",
              "<table border=\"1\" class=\"dataframe\">\n",
              "  <thead>\n",
              "    <tr style=\"text-align: right;\">\n",
              "      <th></th>\n",
              "      <th>Volume</th>\n",
              "      <th>Height</th>\n",
              "      <th>Radius</th>\n",
              "      <th>key</th>\n",
              "    </tr>\n",
              "  </thead>\n",
              "  <tbody>\n",
              "    <tr>\n",
              "      <th>0</th>\n",
              "      <td>5235.803667</td>\n",
              "      <td>22.490878</td>\n",
              "      <td>8.608224</td>\n",
              "      <td>1</td>\n",
              "    </tr>\n",
              "    <tr>\n",
              "      <th>1</th>\n",
              "      <td>44.121058</td>\n",
              "      <td>9.775056</td>\n",
              "      <td>1.198639</td>\n",
              "      <td>2</td>\n",
              "    </tr>\n",
              "    <tr>\n",
              "      <th>2</th>\n",
              "      <td>3960.837241</td>\n",
              "      <td>39.587564</td>\n",
              "      <td>5.643378</td>\n",
              "      <td>3</td>\n",
              "    </tr>\n",
              "    <tr>\n",
              "      <th>3</th>\n",
              "      <td>4540.881745</td>\n",
              "      <td>36.378951</td>\n",
              "      <td>6.303330</td>\n",
              "      <td>4</td>\n",
              "    </tr>\n",
              "    <tr>\n",
              "      <th>4</th>\n",
              "      <td>3419.147147</td>\n",
              "      <td>19.748998</td>\n",
              "      <td>7.423546</td>\n",
              "      <td>5</td>\n",
              "    </tr>\n",
              "  </tbody>\n",
              "</table>\n",
              "</div>"
            ],
            "text/plain": [
              "        Volume     Height    Radius  key\n",
              "0  5235.803667  22.490878  8.608224    1\n",
              "1    44.121058   9.775056  1.198639    2\n",
              "2  3960.837241  39.587564  5.643378    3\n",
              "3  4540.881745  36.378951  6.303330    4\n",
              "4  3419.147147  19.748998  7.423546    5"
            ]
          },
          "metadata": {
            "tags": []
          },
          "execution_count": 26
        }
      ]
    },
    {
      "cell_type": "code",
      "metadata": {
        "id": "KViCJpBldkUL",
        "colab_type": "code",
        "colab": {}
      },
      "source": [
        "\n",
        "def make_train_input_fn(df, num_epochs):\n",
        "  return tf.estimator.inputs.pandas_input_fn(\n",
        "    x = df,\n",
        "    y = df[LABEL],\n",
        "    batch_size=128,\n",
        "    num_epochs=100,\n",
        "    shuffle=True,\n",
        "    queue_capacity=10000\n",
        "  )"
      ],
      "execution_count": 0,
      "outputs": []
    },
    {
      "cell_type": "code",
      "metadata": {
        "id": "xsarOODpecDz",
        "colab_type": "code",
        "colab": {}
      },
      "source": [
        "def make_eval_input_fn(df):\n",
        "  return tf.estimator.inputs.pandas_input_fn(\n",
        "    x = df,\n",
        "    y = df[LABEL],\n",
        "    shuffle=False\n",
        "  )"
      ],
      "execution_count": 0,
      "outputs": []
    },
    {
      "cell_type": "code",
      "metadata": {
        "id": "gmj8p3M9eyEz",
        "colab_type": "code",
        "colab": {}
      },
      "source": [
        "def make_prediction_input_fn(df):\n",
        "  return tf.estimator.inputs.pandas_input_fn(\n",
        "    x=df, shuffle=False\n",
        "  )"
      ],
      "execution_count": 0,
      "outputs": []
    },
    {
      "cell_type": "code",
      "metadata": {
        "id": "wJwa6tOafoti",
        "colab_type": "code",
        "colab": {}
      },
      "source": [
        "feature_columns=[\n",
        "                 tf.feature_column.numeric_column('Height', dtype=tf.float32),\n",
        "                 tf.feature_column.numeric_column('Radius', dtype=tf.float32)\n",
        "]"
      ],
      "execution_count": 0,
      "outputs": []
    },
    {
      "cell_type": "code",
      "metadata": {
        "id": "cT2pss3bvVKU",
        "colab_type": "code",
        "colab": {}
      },
      "source": [
        "\n",
        "def print_rmse(model, df):\n",
        "  metrics = model.evaluate(input_fn = make_eval_input_fn(df))\n",
        "  print('RMSE on dataset = {}'.format(np.sqrt(metrics['average_loss'])))\n"
      ],
      "execution_count": 0,
      "outputs": []
    },
    {
      "cell_type": "code",
      "metadata": {
        "id": "11jfXOWvhoCK",
        "colab_type": "code",
        "outputId": "c667a562-cb7d-47df-e492-2b7d285cf331",
        "colab": {
          "base_uri": "https://localhost:8080/",
          "height": 1000
        }
      },
      "source": [
        "\n",
        "OUTDIR='./cylinder_trained'\n",
        "shutil.rmtree(OUTDIR, ignore_errors = True) # start fresh each time\n",
        "model = tf.estimator.DNNRegressor(hidden_units = [32, 8, 2],\n",
        "      feature_columns = feature_columns, model_dir = OUTDIR)\n",
        "model.train(input_fn = make_train_input_fn(df_train, num_epochs = 100));\n",
        "print_rmse(model, df_valid)"
      ],
      "execution_count": 24,
      "outputs": [
        {
          "output_type": "stream",
          "text": [
            "INFO:tensorflow:Using default config.\n",
            "INFO:tensorflow:Using config: {'_model_dir': './cylinder_trained', '_tf_random_seed': None, '_save_summary_steps': 100, '_save_checkpoints_steps': None, '_save_checkpoints_secs': 600, '_session_config': allow_soft_placement: true\n",
            "graph_options {\n",
            "  rewrite_options {\n",
            "    meta_optimizer_iterations: ONE\n",
            "  }\n",
            "}\n",
            ", '_keep_checkpoint_max': 5, '_keep_checkpoint_every_n_hours': 10000, '_log_step_count_steps': 100, '_train_distribute': None, '_device_fn': None, '_protocol': None, '_eval_distribute': None, '_experimental_distribute': None, '_experimental_max_worker_delay_secs': None, '_session_creation_timeout_secs': 7200, '_service': None, '_cluster_spec': <tensorflow.python.training.server_lib.ClusterSpec object at 0x7ff16ea9e518>, '_task_type': 'worker', '_task_id': 0, '_global_id_in_cluster': 0, '_master': '', '_evaluation_master': '', '_is_chief': True, '_num_ps_replicas': 0, '_num_worker_replicas': 1}\n",
            "INFO:tensorflow:Calling model_fn.\n",
            "WARNING:tensorflow:Entity <bound method _DNNModel.call of <tensorflow_estimator.python.estimator.canned.dnn._DNNModel object at 0x7ff16ea37ba8>> could not be transformed and will be executed as-is. Please report this to the AutoGraph team. When filing the bug, set the verbosity to 10 (on Linux, `export AUTOGRAPH_VERBOSITY=10`) and attach the full output. Cause: module 'gast' has no attribute 'Num'\n",
            "WARNING: Entity <bound method _DNNModel.call of <tensorflow_estimator.python.estimator.canned.dnn._DNNModel object at 0x7ff16ea37ba8>> could not be transformed and will be executed as-is. Please report this to the AutoGraph team. When filing the bug, set the verbosity to 10 (on Linux, `export AUTOGRAPH_VERBOSITY=10`) and attach the full output. Cause: module 'gast' has no attribute 'Num'\n",
            "INFO:tensorflow:Done calling model_fn.\n",
            "INFO:tensorflow:Create CheckpointSaverHook.\n",
            "INFO:tensorflow:Graph was finalized.\n",
            "INFO:tensorflow:Running local_init_op.\n",
            "INFO:tensorflow:Done running local_init_op.\n",
            "INFO:tensorflow:Saving checkpoints for 0 into ./cylinder_trained/model.ckpt.\n",
            "INFO:tensorflow:loss = 3451313.8, step = 1\n",
            "WARNING:tensorflow:It seems that global step (tf.train.get_global_step) has not been increased. Current value (could be stable): 94 vs previous value: 94. You could increase the global step by passing tf.train.get_global_step() to Optimizer.apply_gradients or Optimizer.minimize.\n",
            "WARNING:tensorflow:It seems that global step (tf.train.get_global_step) has not been increased. Current value (could be stable): 96 vs previous value: 96. You could increase the global step by passing tf.train.get_global_step() to Optimizer.apply_gradients or Optimizer.minimize.\n",
            "WARNING:tensorflow:It seems that global step (tf.train.get_global_step) has not been increased. Current value (could be stable): 99 vs previous value: 99. You could increase the global step by passing tf.train.get_global_step() to Optimizer.apply_gradients or Optimizer.minimize.\n",
            "INFO:tensorflow:global_step/sec: 223.834\n",
            "INFO:tensorflow:loss = 3300792.0, step = 101 (0.450 sec)\n",
            "WARNING:tensorflow:It seems that global step (tf.train.get_global_step) has not been increased. Current value (could be stable): 104 vs previous value: 104. You could increase the global step by passing tf.train.get_global_step() to Optimizer.apply_gradients or Optimizer.minimize.\n",
            "WARNING:tensorflow:It seems that global step (tf.train.get_global_step) has not been increased. Current value (could be stable): 106 vs previous value: 106. You could increase the global step by passing tf.train.get_global_step() to Optimizer.apply_gradients or Optimizer.minimize.\n",
            "INFO:tensorflow:global_step/sec: 382.13\n",
            "INFO:tensorflow:loss = 3164248.5, step = 201 (0.259 sec)\n",
            "INFO:tensorflow:global_step/sec: 326.205\n",
            "INFO:tensorflow:loss = 2918526.0, step = 301 (0.306 sec)\n",
            "INFO:tensorflow:global_step/sec: 335.113\n",
            "INFO:tensorflow:loss = 2910048.0, step = 401 (0.297 sec)\n",
            "INFO:tensorflow:global_step/sec: 315.946\n",
            "INFO:tensorflow:loss = 2989130.5, step = 501 (0.317 sec)\n",
            "INFO:tensorflow:global_step/sec: 328.709\n",
            "INFO:tensorflow:loss = 3054896.8, step = 601 (0.304 sec)\n",
            "INFO:tensorflow:global_step/sec: 345.936\n",
            "INFO:tensorflow:loss = 3400936.8, step = 701 (0.289 sec)\n",
            "INFO:tensorflow:global_step/sec: 350.467\n",
            "INFO:tensorflow:loss = 3040116.5, step = 801 (0.287 sec)\n",
            "INFO:tensorflow:global_step/sec: 336.214\n",
            "INFO:tensorflow:loss = 3333546.5, step = 901 (0.296 sec)\n",
            "INFO:tensorflow:global_step/sec: 324.927\n",
            "INFO:tensorflow:loss = 3295187.0, step = 1001 (0.315 sec)\n",
            "INFO:tensorflow:global_step/sec: 343.798\n",
            "INFO:tensorflow:loss = 3793066.5, step = 1101 (0.285 sec)\n",
            "INFO:tensorflow:global_step/sec: 336.66\n",
            "INFO:tensorflow:loss = 3520609.5, step = 1201 (0.295 sec)\n",
            "INFO:tensorflow:global_step/sec: 336.162\n",
            "INFO:tensorflow:loss = 3163264.5, step = 1301 (0.298 sec)\n",
            "INFO:tensorflow:global_step/sec: 339.139\n",
            "INFO:tensorflow:loss = 2949094.2, step = 1401 (0.296 sec)\n",
            "INFO:tensorflow:global_step/sec: 349.122\n",
            "INFO:tensorflow:loss = 2899170.8, step = 1501 (0.285 sec)\n",
            "INFO:tensorflow:global_step/sec: 328.821\n",
            "INFO:tensorflow:loss = 3349561.5, step = 1601 (0.311 sec)\n",
            "INFO:tensorflow:global_step/sec: 350.556\n",
            "INFO:tensorflow:loss = 3938750.5, step = 1701 (0.279 sec)\n",
            "INFO:tensorflow:global_step/sec: 353.246\n",
            "INFO:tensorflow:loss = 3027960.0, step = 1801 (0.283 sec)\n",
            "INFO:tensorflow:global_step/sec: 347.954\n",
            "INFO:tensorflow:loss = 3235695.2, step = 1901 (0.292 sec)\n",
            "INFO:tensorflow:global_step/sec: 339.266\n",
            "INFO:tensorflow:loss = 3178820.8, step = 2001 (0.291 sec)\n",
            "INFO:tensorflow:global_step/sec: 320.354\n",
            "INFO:tensorflow:loss = 2752147.0, step = 2101 (0.312 sec)\n",
            "INFO:tensorflow:global_step/sec: 335.575\n",
            "INFO:tensorflow:loss = 3576471.0, step = 2201 (0.298 sec)\n",
            "INFO:tensorflow:global_step/sec: 333.472\n",
            "INFO:tensorflow:loss = 3358941.5, step = 2301 (0.306 sec)\n",
            "INFO:tensorflow:global_step/sec: 361.351\n",
            "INFO:tensorflow:loss = 3275916.5, step = 2401 (0.272 sec)\n",
            "INFO:tensorflow:global_step/sec: 352.833\n",
            "INFO:tensorflow:loss = 3156411.5, step = 2501 (0.282 sec)\n",
            "INFO:tensorflow:global_step/sec: 341.483\n",
            "INFO:tensorflow:loss = 3050863.8, step = 2601 (0.300 sec)\n",
            "INFO:tensorflow:global_step/sec: 328.898\n",
            "INFO:tensorflow:loss = 3653421.0, step = 2701 (0.299 sec)\n",
            "INFO:tensorflow:global_step/sec: 318.051\n",
            "INFO:tensorflow:loss = 2954376.2, step = 2801 (0.314 sec)\n",
            "INFO:tensorflow:global_step/sec: 364.762\n",
            "INFO:tensorflow:loss = 3476649.8, step = 2901 (0.273 sec)\n",
            "INFO:tensorflow:global_step/sec: 326.413\n",
            "INFO:tensorflow:loss = 3198632.0, step = 3001 (0.311 sec)\n",
            "INFO:tensorflow:global_step/sec: 313.451\n",
            "INFO:tensorflow:loss = 3229883.5, step = 3101 (0.316 sec)\n",
            "INFO:tensorflow:global_step/sec: 348.418\n",
            "INFO:tensorflow:loss = 2650808.8, step = 3201 (0.285 sec)\n",
            "INFO:tensorflow:global_step/sec: 346.708\n",
            "INFO:tensorflow:loss = 2983642.0, step = 3301 (0.288 sec)\n",
            "INFO:tensorflow:global_step/sec: 315.859\n",
            "INFO:tensorflow:loss = 2784284.5, step = 3401 (0.317 sec)\n",
            "INFO:tensorflow:global_step/sec: 345.274\n",
            "INFO:tensorflow:loss = 3207816.0, step = 3501 (0.291 sec)\n",
            "INFO:tensorflow:global_step/sec: 317.882\n",
            "INFO:tensorflow:loss = 2944319.0, step = 3601 (0.315 sec)\n",
            "INFO:tensorflow:global_step/sec: 333.022\n",
            "INFO:tensorflow:loss = 3249601.2, step = 3701 (0.300 sec)\n",
            "INFO:tensorflow:global_step/sec: 338.675\n",
            "INFO:tensorflow:loss = 3151298.5, step = 3801 (0.294 sec)\n",
            "INFO:tensorflow:global_step/sec: 343.221\n",
            "INFO:tensorflow:loss = 3362576.0, step = 3901 (0.291 sec)\n",
            "INFO:tensorflow:Saving checkpoints for 3907 into ./cylinder_trained/model.ckpt.\n",
            "INFO:tensorflow:Loss for final step: 869422.6.\n",
            "INFO:tensorflow:Calling model_fn.\n",
            "WARNING:tensorflow:Entity <bound method _DNNModel.call of <tensorflow_estimator.python.estimator.canned.dnn._DNNModel object at 0x7ff16e835b00>> could not be transformed and will be executed as-is. Please report this to the AutoGraph team. When filing the bug, set the verbosity to 10 (on Linux, `export AUTOGRAPH_VERBOSITY=10`) and attach the full output. Cause: module 'gast' has no attribute 'Num'\n",
            "WARNING: Entity <bound method _DNNModel.call of <tensorflow_estimator.python.estimator.canned.dnn._DNNModel object at 0x7ff16e835b00>> could not be transformed and will be executed as-is. Please report this to the AutoGraph team. When filing the bug, set the verbosity to 10 (on Linux, `export AUTOGRAPH_VERBOSITY=10`) and attach the full output. Cause: module 'gast' has no attribute 'Num'\n",
            "INFO:tensorflow:Done calling model_fn.\n",
            "INFO:tensorflow:Starting evaluation at 2020-05-22T21:18:32Z\n",
            "INFO:tensorflow:Graph was finalized.\n",
            "INFO:tensorflow:Restoring parameters from ./cylinder_trained/model.ckpt-3907\n",
            "INFO:tensorflow:Running local_init_op.\n",
            "INFO:tensorflow:Done running local_init_op.\n",
            "INFO:tensorflow:Finished evaluation at 2020-05-22-21:18:32\n",
            "INFO:tensorflow:Saving dict for global step 3907: average_loss = 23843.97, global_step = 3907, label/mean = 139.7439, loss = 2980496.2, prediction/mean = 6.1211843\n",
            "INFO:tensorflow:Saving 'checkpoint_path' summary for global step 3907: ./cylinder_trained/model.ckpt-3907\n",
            "RMSE on dataset = 154.41493225097656\n"
          ],
          "name": "stdout"
        }
      ]
    },
    {
      "cell_type": "code",
      "metadata": {
        "id": "JXFk4TC1l50C",
        "colab_type": "code",
        "outputId": "9a98c04e-c84b-42d3-af30-fdc53418c84f",
        "colab": {
          "base_uri": "https://localhost:8080/",
          "height": 343
        }
      },
      "source": [
        "predictions = model.predict(input_fn = make_prediction_input_fn(df_test[10:20]))\n",
        "for items in predictions:\n",
        "  print(items)"
      ],
      "execution_count": 27,
      "outputs": [
        {
          "output_type": "stream",
          "text": [
            "INFO:tensorflow:Calling model_fn.\n",
            "WARNING:tensorflow:Entity <bound method _DNNModel.call of <tensorflow_estimator.python.estimator.canned.dnn._DNNModel object at 0x7ff174a2c4a8>> could not be transformed and will be executed as-is. Please report this to the AutoGraph team. When filing the bug, set the verbosity to 10 (on Linux, `export AUTOGRAPH_VERBOSITY=10`) and attach the full output. Cause: module 'gast' has no attribute 'Num'\n",
            "WARNING: Entity <bound method _DNNModel.call of <tensorflow_estimator.python.estimator.canned.dnn._DNNModel object at 0x7ff174a2c4a8>> could not be transformed and will be executed as-is. Please report this to the AutoGraph team. When filing the bug, set the verbosity to 10 (on Linux, `export AUTOGRAPH_VERBOSITY=10`) and attach the full output. Cause: module 'gast' has no attribute 'Num'\n",
            "INFO:tensorflow:Done calling model_fn.\n",
            "INFO:tensorflow:Graph was finalized.\n",
            "INFO:tensorflow:Restoring parameters from ./cylinder_trained/model.ckpt-3907\n",
            "INFO:tensorflow:Running local_init_op.\n",
            "INFO:tensorflow:Done running local_init_op.\n",
            "{'predictions': array([6.121185], dtype=float32)}\n",
            "{'predictions': array([6.121185], dtype=float32)}\n",
            "{'predictions': array([6.121185], dtype=float32)}\n",
            "{'predictions': array([6.121185], dtype=float32)}\n",
            "{'predictions': array([6.121185], dtype=float32)}\n",
            "{'predictions': array([6.121185], dtype=float32)}\n",
            "{'predictions': array([6.121185], dtype=float32)}\n",
            "{'predictions': array([6.121185], dtype=float32)}\n",
            "{'predictions': array([6.121185], dtype=float32)}\n",
            "{'predictions': array([6.121185], dtype=float32)}\n"
          ],
          "name": "stdout"
        }
      ]
    },
    {
      "cell_type": "code",
      "metadata": {
        "id": "1k9GnwtCOI7V",
        "colab_type": "code",
        "colab": {
          "base_uri": "https://localhost:8080/",
          "height": 258
        },
        "outputId": "aa9e3979-6984-4d5d-8e31-c15a5870d6ae"
      },
      "source": [
        "print_rmse(model, df_test)"
      ],
      "execution_count": 15,
      "outputs": [
        {
          "output_type": "stream",
          "text": [
            "INFO:tensorflow:Calling model_fn.\n",
            "WARNING:tensorflow:Entity <bound method _DNNModel.call of <tensorflow_estimator.python.estimator.canned.dnn._DNNModel object at 0x7ff16e3079b0>> could not be transformed and will be executed as-is. Please report this to the AutoGraph team. When filing the bug, set the verbosity to 10 (on Linux, `export AUTOGRAPH_VERBOSITY=10`) and attach the full output. Cause: module 'gast' has no attribute 'Num'\n",
            "WARNING: Entity <bound method _DNNModel.call of <tensorflow_estimator.python.estimator.canned.dnn._DNNModel object at 0x7ff16e3079b0>> could not be transformed and will be executed as-is. Please report this to the AutoGraph team. When filing the bug, set the verbosity to 10 (on Linux, `export AUTOGRAPH_VERBOSITY=10`) and attach the full output. Cause: module 'gast' has no attribute 'Num'\n",
            "INFO:tensorflow:Done calling model_fn.\n",
            "INFO:tensorflow:Starting evaluation at 2020-05-22T21:10:03Z\n",
            "INFO:tensorflow:Graph was finalized.\n",
            "INFO:tensorflow:Restoring parameters from ./cylinder_trained/model.ckpt-40\n",
            "INFO:tensorflow:Running local_init_op.\n",
            "INFO:tensorflow:Done running local_init_op.\n",
            "INFO:tensorflow:Finished evaluation at 2020-05-22-21:10:03\n",
            "INFO:tensorflow:Saving dict for global step 40: average_loss = 25362.283, global_step = 40, label/mean = 139.74388, loss = 3170285.5, prediction/mean = 0.5557398\n",
            "INFO:tensorflow:Saving 'checkpoint_path' summary for global step 40: ./cylinder_trained/model.ckpt-40\n",
            "RMSE on dataset = 159.25540161132812\n"
          ],
          "name": "stdout"
        }
      ]
    },
    {
      "cell_type": "code",
      "metadata": {
        "id": "4Kc_R-04OTMH",
        "colab_type": "code",
        "colab": {
          "base_uri": "https://localhost:8080/",
          "height": 297
        },
        "outputId": "a8578240-ee4a-4697-f256-fcc85551477b"
      },
      "source": [
        "df_train.describe()"
      ],
      "execution_count": 20,
      "outputs": [
        {
          "output_type": "execute_result",
          "data": {
            "text/html": [
              "<div>\n",
              "<style scoped>\n",
              "    .dataframe tbody tr th:only-of-type {\n",
              "        vertical-align: middle;\n",
              "    }\n",
              "\n",
              "    .dataframe tbody tr th {\n",
              "        vertical-align: top;\n",
              "    }\n",
              "\n",
              "    .dataframe thead th {\n",
              "        text-align: right;\n",
              "    }\n",
              "</style>\n",
              "<table border=\"1\" class=\"dataframe\">\n",
              "  <thead>\n",
              "    <tr style=\"text-align: right;\">\n",
              "      <th></th>\n",
              "      <th>Volume</th>\n",
              "      <th>Height</th>\n",
              "      <th>Radius</th>\n",
              "      <th>key</th>\n",
              "    </tr>\n",
              "  </thead>\n",
              "  <tbody>\n",
              "    <tr>\n",
              "      <th>count</th>\n",
              "      <td>5000.000000</td>\n",
              "      <td>5000.000000</td>\n",
              "      <td>5000.000000</td>\n",
              "      <td>5000.000000</td>\n",
              "    </tr>\n",
              "    <tr>\n",
              "      <th>mean</th>\n",
              "      <td>144.189453</td>\n",
              "      <td>3.512988</td>\n",
              "      <td>3.508630</td>\n",
              "      <td>2500.500000</td>\n",
              "    </tr>\n",
              "    <tr>\n",
              "      <th>std</th>\n",
              "      <td>77.921983</td>\n",
              "      <td>0.868211</td>\n",
              "      <td>0.860001</td>\n",
              "      <td>1443.520003</td>\n",
              "    </tr>\n",
              "    <tr>\n",
              "      <th>min</th>\n",
              "      <td>26.879301</td>\n",
              "      <td>2.000196</td>\n",
              "      <td>2.001180</td>\n",
              "      <td>1.000000</td>\n",
              "    </tr>\n",
              "    <tr>\n",
              "      <th>25%</th>\n",
              "      <td>79.731013</td>\n",
              "      <td>2.752870</td>\n",
              "      <td>2.761899</td>\n",
              "      <td>1250.750000</td>\n",
              "    </tr>\n",
              "    <tr>\n",
              "      <th>50%</th>\n",
              "      <td>130.520027</td>\n",
              "      <td>3.527128</td>\n",
              "      <td>3.513592</td>\n",
              "      <td>2500.500000</td>\n",
              "    </tr>\n",
              "    <tr>\n",
              "      <th>75%</th>\n",
              "      <td>193.827965</td>\n",
              "      <td>4.267606</td>\n",
              "      <td>4.244133</td>\n",
              "      <td>3750.250000</td>\n",
              "    </tr>\n",
              "    <tr>\n",
              "      <th>max</th>\n",
              "      <td>391.168034</td>\n",
              "      <td>4.998284</td>\n",
              "      <td>4.999959</td>\n",
              "      <td>5000.000000</td>\n",
              "    </tr>\n",
              "  </tbody>\n",
              "</table>\n",
              "</div>"
            ],
            "text/plain": [
              "            Volume       Height       Radius          key\n",
              "count  5000.000000  5000.000000  5000.000000  5000.000000\n",
              "mean    144.189453     3.512988     3.508630  2500.500000\n",
              "std      77.921983     0.868211     0.860001  1443.520003\n",
              "min      26.879301     2.000196     2.001180     1.000000\n",
              "25%      79.731013     2.752870     2.761899  1250.750000\n",
              "50%     130.520027     3.527128     3.513592  2500.500000\n",
              "75%     193.827965     4.267606     4.244133  3750.250000\n",
              "max     391.168034     4.998284     4.999959  5000.000000"
            ]
          },
          "metadata": {
            "tags": []
          },
          "execution_count": 20
        }
      ]
    }
  ]
}